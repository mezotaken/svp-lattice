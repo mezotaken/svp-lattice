{
 "cells": [
  {
   "cell_type": "code",
   "execution_count": 865,
   "metadata": {},
   "outputs": [],
   "source": [
    "import numpy as np\n",
    "import itertools\n",
    "import matplotlib.pyplot as plt"
   ]
  },
  {
   "cell_type": "markdown",
   "metadata": {},
   "source": [
    "## Kannan's SVP"
   ]
  },
  {
   "cell_type": "code",
   "execution_count": 866,
   "metadata": {},
   "outputs": [],
   "source": [
    "# Ортогонализация Грама-Шмидта. Возвращает ортогонализированный базис и коэффициенты мю\n",
    "# В случае если матрица на входе полного ранга, то это будет QR разложение, где столбцы Q попарно ортогональны, \n",
    "# а R - верхнетреугольная. (проверено ниже)\n",
    "def GSO(basis):\n",
    "    n = basis.shape[1]\n",
    "    dim = basis.shape[0]\n",
    "    new_basis = np.array(basis, copy=True)\n",
    "    R = np.identity(dim)[:,:n]\n",
    "    for j in range(1, n):\n",
    "        for i in range (0, j):\n",
    "            R[i,j] = np.dot(basis[:,j],new_basis[:,i])/np.dot(new_basis[:,i],new_basis[:,i])\n",
    "            new_basis[:,j]-=R[i,j]*new_basis[:,i]\n",
    "    return new_basis, R"
   ]
  },
  {
   "cell_type": "code",
   "execution_count": 867,
   "metadata": {},
   "outputs": [],
   "source": [
    "a = np.array([[1,-1,3],[1,0.0,5],[1,2,6]])"
   ]
  },
  {
   "cell_type": "code",
   "execution_count": 868,
   "metadata": {
    "scrolled": true
   },
   "outputs": [
    {
     "data": {
      "text/plain": [
       "array([[ 1., -1.,  3.],\n",
       "       [ 1.,  0.,  5.],\n",
       "       [ 1.,  2.,  6.]])"
      ]
     },
     "execution_count": 868,
     "metadata": {},
     "output_type": "execute_result"
    }
   ],
   "source": [
    "a"
   ]
  },
  {
   "cell_type": "code",
   "execution_count": 869,
   "metadata": {},
   "outputs": [],
   "source": [
    "b,r = GSO(a)"
   ]
  },
  {
   "cell_type": "code",
   "execution_count": 870,
   "metadata": {},
   "outputs": [
    {
     "data": {
      "text/plain": [
       "(array([[ 1.        , -1.33333333, -0.42857143],\n",
       "        [ 1.        , -0.33333333,  0.64285714],\n",
       "        [ 1.        ,  1.66666667, -0.21428571]]),\n",
       " array([[1.        , 0.33333333, 4.66666667],\n",
       "        [0.        , 1.        , 0.92857143],\n",
       "        [0.        , 0.        , 1.        ]]))"
      ]
     },
     "execution_count": 870,
     "metadata": {},
     "output_type": "execute_result"
    }
   ],
   "source": [
    "b,r"
   ]
  },
  {
   "cell_type": "code",
   "execution_count": 871,
   "metadata": {},
   "outputs": [
    {
     "data": {
      "text/plain": [
       "array([[ 1., -1.,  3.],\n",
       "       [ 1.,  0.,  5.],\n",
       "       [ 1.,  2.,  6.]])"
      ]
     },
     "execution_count": 871,
     "metadata": {},
     "output_type": "execute_result"
    }
   ],
   "source": [
    "np.matmul(b,r)"
   ]
  },
  {
   "cell_type": "code",
   "execution_count": 872,
   "metadata": {},
   "outputs": [],
   "source": [
    "# LLL редукция. Более простая для вычисления, но не всегда даёт лучший базис.\n",
    "# Используется как первый шаг для облегчения дальнейшей KZ редукции\n",
    "def LLL(B, delta):\n",
    "    B_new, R = GSO(B)\n",
    "    B_red = np.array(B, copy=True)  \n",
    "    n, k = B.shape[1], 1\n",
    "    while k < n:\n",
    "        # size reduction step\n",
    "        for j in reversed(range(k)):\n",
    "            if abs(R[j,k]) > .5:\n",
    "                B_red[:,k] = B_red[:,k] - round(R[j,k])*B_red[:,j]\n",
    "                B_new, R = GSO(B_red)\n",
    "\n",
    "        # swap step\n",
    "        if np.dot(B_new[:,k],B_new[:,k]) >= (delta - R[k-1,k]**2)*np.dot(B_new[:,k-1],B_new[:,k-1]):\n",
    "            k = k + 1\n",
    "        else:\n",
    "            B_red[:,[k,k-1]] = B_red[:,[k-1,k]]\n",
    "            B_new, R = GSO(B_red)\n",
    "            k = max(k-1, 1)\n",
    "\n",
    "    return B_red "
   ]
  },
  {
   "cell_type": "code",
   "execution_count": 873,
   "metadata": {},
   "outputs": [],
   "source": [
    "# Для двумерных решёток. Используется в частичной KZ и как база рекурсии,\n",
    "# Поскольку для таких решёток KZreducted == GaussReducted\n",
    "def GaussReduction(b1,b2):\n",
    "    b1_n = np.dot(b1,b1)\n",
    "    mu = np.dot(b1,b2)/b1_n\n",
    "    b2 = b2 - round(mu)*b1\n",
    "    b2_n = np.dot(b2,b2)\n",
    "    while b2_n < b1_n:\n",
    "        temp = b2\n",
    "        b2 = b1\n",
    "        b1 = temp\n",
    "        b1_n = b2_n\n",
    "        mu = np.dot(b1,b2)/b1_n\n",
    "        b2 = b2 - round(mu)*b1\n",
    "        b2_n = np.dot(b2,b2)\n",
    "    return(b1,b2)"
   ]
  },
  {
   "cell_type": "code",
   "execution_count": 874,
   "metadata": {},
   "outputs": [],
   "source": [
    "# Нормализация\n",
    "def SizeReduction(B):\n",
    "    B_new, R = GSO(B)\n",
    "    B_red = np.array(B, copy=True)  \n",
    "    n, k = B.shape[1], 1\n",
    "    while k < n:\n",
    "        for j in reversed(range(k)):\n",
    "            if abs(R[j,k]) > .5:\n",
    "                B_red[:,k] = B_red[:,k] - round(R[j,k])*B_red[:,j]\n",
    "                B_new, R = GSO(B_red)\n",
    "        k = k + 1\n",
    "    return B_red"
   ]
  },
  {
   "cell_type": "code",
   "execution_count": 875,
   "metadata": {},
   "outputs": [],
   "source": [
    "# Проекция на ортогональное дополнение к первому вектору, по сути - внешний цикл GSO с фиксированным i = 0 \n",
    "def Projections(basis):\n",
    "    n = basis.shape[1]\n",
    "    new_basis = np.array(basis, copy=True)\n",
    "    b1_n = np.dot(new_basis[:,0],new_basis[:,0])\n",
    "    for j in range(1, n):\n",
    "            new_basis[:,j]-=np.dot(basis[:,j],new_basis[:,0])*new_basis[:,0]/b1_n\n",
    "    return new_basis\n"
   ]
  },
  {
   "cell_type": "code",
   "execution_count": 876,
   "metadata": {},
   "outputs": [],
   "source": [
    "# Нахождение минимального вектора на частично KZ-редуцированном базисе\n",
    "def Enumeration(basis):\n",
    "    new_basis, R = GSO(basis)\n",
    "    dim = basis.shape[0]\n",
    "    n = basis.shape[1]\n",
    "    ranges = []\n",
    "    for i in reversed(range(n)):\n",
    "        threshold = np.floor(np.sqrt(np.dot(basis[:,0],basis[:,0])/np.dot(new_basis[:,i],new_basis[:,i]))).astype(int)\n",
    "        ranges.append(range(-threshold,threshold+1))\n",
    "    SV = basis[:,0]\n",
    "    sv_norm = np.dot(basis[:,0],basis[:,0])\n",
    "    ranges = list(itertools.product(*ranges))\n",
    "    for alphas in ranges:\n",
    "        v = np.matmul(basis,list(alphas))\n",
    "        curnorm = np.dot(v,v)\n",
    "        if curnorm < sv_norm and curnorm > 1e-15:\n",
    "            print(alphas)\n",
    "            sv_norm = curnorm\n",
    "            SV = v             \n",
    "    return SV    "
   ]
  },
  {
   "cell_type": "code",
   "execution_count": 877,
   "metadata": {},
   "outputs": [],
   "source": [
    "# Частичная KZ-редукция\n",
    "def PartialKZreduction(basis, delta):\n",
    "    new_basis = LLL(basis, delta)\n",
    "    cond = True\n",
    "    while cond:\n",
    "        _, kz_reduced, transf_matr = KZreduction(new_basis[:,1:], delta)\n",
    "        new_basis[:,1:] = np.matmul(new_basis[:,1:],transf_matr)\n",
    "        new_basis = SizeReduction(new_basis)\n",
    "        if np.dot(kz_reduced[:,1],kz_reduced[:,1]) >= np.dot(new_basis[:,0],new_basis[:,0])/4:\n",
    "            cond = False\n",
    "        else:\n",
    "            new_basis[:,0], new_basis[:,1] = GaussReduction(new_basis[:,0],new_basis[:,1])\n",
    "    return new_basis"
   ]
  },
  {
   "cell_type": "code",
   "execution_count": 878,
   "metadata": {},
   "outputs": [],
   "source": [
    "# Полная KZ-редукция. В случае, если размеронсть подпространства решётки = 2, вызывается гаусс-редукция\n",
    "# Иначе вызывается частичная, которая в себе снова вызывает полную, но уже для базиса без первого вектора.\n",
    "def KZreduction(basis, delta):\n",
    "    new_basis = np.array(basis, copy=True)  \n",
    "    if basis.shape[1] > 2:\n",
    "        new_basis = PartialKZreduction(basis, delta)\n",
    "        SV = Enumeration(new_basis)\n",
    "        new_basis[:,0] = SV\n",
    "        new_basis = LLL(new_basis,delta)\n",
    "        _, kz_reduced, transf_matr = KZreduction(new_basis[:,1:], delta)\n",
    "        new_basis[:,1:] = np.matmul(new_basis[:,1:],transf_matr)\n",
    "        new_basis = SizeReduction(new_basis)\n",
    "    else:\n",
    "        new_basis[:,0], new_basis[:,1] = GaussReduction(basis[:,0],basis[:,1])\n",
    "        SV = new_basis[:,0]\n",
    "    tf_m = np.matmul(np.matmul(np.linalg.inv(np.matmul(np.transpose(basis),basis)),np.transpose(basis)),new_basis)\n",
    "    return SV, new_basis, tf_m "
   ]
  },
  {
   "cell_type": "code",
   "execution_count": 879,
   "metadata": {},
   "outputs": [],
   "source": [
    "SV, new_basis, _ = KZreduction(a,0.75)"
   ]
  },
  {
   "cell_type": "code",
   "execution_count": 880,
   "metadata": {},
   "outputs": [
    {
     "name": "stdout",
     "output_type": "stream",
     "text": [
      "[0. 1. 0.]\n"
     ]
    }
   ],
   "source": [
    "print(SV)"
   ]
  },
  {
   "cell_type": "code",
   "execution_count": 881,
   "metadata": {},
   "outputs": [
    {
     "name": "stdout",
     "output_type": "stream",
     "text": [
      "[[ 0.  1. -1.]\n",
      " [ 1.  0.  0.]\n",
      " [ 0.  1.  2.]]\n"
     ]
    }
   ],
   "source": [
    "print(new_basis)"
   ]
  },
  {
   "cell_type": "markdown",
   "metadata": {},
   "source": [
    "## Randomized SVP"
   ]
  },
  {
   "cell_type": "code",
   "execution_count": 882,
   "metadata": {},
   "outputs": [],
   "source": [
    "# Генерация точек внутри сферы радиуса 2 с центром в начале координат. (равномерное распределение)\n",
    "# Метод: https://mathworld.wolfram.com/BallPointPicking.html\n",
    "def randsphere(n_points, dim):\n",
    "    res = np.random.normal(0,1,(n_points,dim))\n",
    "    mult = np.random.exponential(1,(n_points))\n",
    "    for i in range(n_points):\n",
    "        mult[i] = 2/np.sqrt((np.dot(res[i],res[i]) + mult[i]))\n",
    "        res[i]*=mult[i]\n",
    "    return res"
   ]
  },
  {
   "cell_type": "code",
   "execution_count": 883,
   "metadata": {},
   "outputs": [],
   "source": [
    "def RandomizedSVP(basis):\n",
    "    n = basis.shape[1]\n",
    "    dim = basis.shape[0]\n",
    "    R = 0\n",
    "    norms = [np.sqrt(np.dot(basis[:,i],basis[:,i])) for i in range(n)]\n",
    "    R = sum(norms)\n",
    "    inv_b = np.linalg.inv(basis)\n",
    "    N_samples = round(2**(8*dim)*np.log(R))\n",
    "    \n",
    "    X = randsphere(N_samples, dim)\n",
    "    L = []\n",
    "    \n",
    "    # Поиск ближайших точек решётки и заполнение L\n",
    "    for x in X:\n",
    "        lam = np.matmul(inv_b, x)\n",
    "        lam = lam - np.round(lam)\n",
    "        y = np.matmul(basis, lam)\n",
    "        L.append([x,y])\n",
    "    L = np.array(L)\n",
    "    \n",
    "    # \n",
    "    while R > 6:\n",
    "        J = [0]\n",
    "        eta = [0]*N_samples\n",
    "        for i in range(1,N_samples):\n",
    "            eta[i] = i\n",
    "            j = 0\n",
    "            # Просеивание с поиском центров\n",
    "            while j < len(J) and eta[i] == i:\n",
    "                v = L[i,1] - L[J[j],1]\n",
    "                if (sqrt(np.dot(v,v)) <= R/2):\n",
    "                    eta[i] = J[j]\n",
    "                j = j + 1 \n",
    "            if eta[i] == i:\n",
    "                J.append(i)\n",
    "                \n",
    "        # Удаляем центры из L\n",
    "        L = np.delete(L, J, 0)\n",
    "        N_samples = N_samples - len(J)\n",
    "        \n",
    "        # Замена всего, что осталось\n",
    "        for i in range(N_samples):\n",
    "            L[i] = (L[i,0],L[i,1] - (L[eta[i],1] - L[eta[i],0]))\n",
    "        R = R/2 + 2\n",
    "    # Поиск минимума среди попарных разностей\n",
    "    res = []\n",
    "    min_norm = dim*sum(norms)\n",
    "    print('Количество итераций: ', N_samples)\n",
    "    for i in range(N_samples - 1):\n",
    "        print(res)\n",
    "        for j in range(i + 1, N_samples):\n",
    "            v = (L[i,1] - L[i,0]) - (L[j,1] - L[j,0])\n",
    "            cur_norm = np.dot(v,v)\n",
    "            if cur_norm < min_norm and cur_norm > 1e-15:\n",
    "                min_norm = cur_norm\n",
    "                res = v\n",
    "    return v"
   ]
  },
  {
   "cell_type": "code",
   "execution_count": 884,
   "metadata": {},
   "outputs": [],
   "source": [
    "ttt = np.array([[1,2.0],[2,-3]])"
   ]
  },
  {
   "cell_type": "code",
   "execution_count": 885,
   "metadata": {},
   "outputs": [
    {
     "name": "stdout",
     "output_type": "stream",
     "text": [
      "2.23606797749979\n"
     ]
    }
   ],
   "source": [
    "# Длина минимального вектора лежит в [2,3)\n",
    "b = LLL(ttt,0.75)\n",
    "print(np.sqrt(np.dot(b[:,0],b[:,0])))"
   ]
  },
  {
   "cell_type": "code",
   "execution_count": 886,
   "metadata": {
    "scrolled": false
   },
   "outputs": [
    {
     "name": "stdout",
     "output_type": "stream",
     "text": [
      "Количество итераций:  115672\n",
      "[]\n",
      "[1. 2.]\n",
      "[1. 2.]\n",
      "[1. 2.]\n",
      "[1. 2.]\n",
      "[1. 2.]\n"
     ]
    },
    {
     "ename": "KeyboardInterrupt",
     "evalue": "",
     "output_type": "error",
     "traceback": [
      "\u001b[1;31m---------------------------------------------------------------------------\u001b[0m",
      "\u001b[1;31mKeyboardInterrupt\u001b[0m                         Traceback (most recent call last)",
      "\u001b[1;32m<ipython-input-886-eada1d6b771e>\u001b[0m in \u001b[0;36m<module>\u001b[1;34m\u001b[0m\n\u001b[1;32m----> 1\u001b[1;33m \u001b[0mRandomizedSVP\u001b[0m\u001b[1;33m(\u001b[0m\u001b[0mttt\u001b[0m\u001b[1;33m)\u001b[0m\u001b[1;33m\u001b[0m\u001b[1;33m\u001b[0m\u001b[0m\n\u001b[0m",
      "\u001b[1;32m<ipython-input-883-904cd5b8ce0e>\u001b[0m in \u001b[0;36mRandomizedSVP\u001b[1;34m(basis)\u001b[0m\n\u001b[0;32m     51\u001b[0m         \u001b[1;32mfor\u001b[0m \u001b[0mj\u001b[0m \u001b[1;32min\u001b[0m \u001b[0mrange\u001b[0m\u001b[1;33m(\u001b[0m\u001b[0mi\u001b[0m \u001b[1;33m+\u001b[0m \u001b[1;36m1\u001b[0m\u001b[1;33m,\u001b[0m \u001b[0mN_samples\u001b[0m\u001b[1;33m)\u001b[0m\u001b[1;33m:\u001b[0m\u001b[1;33m\u001b[0m\u001b[1;33m\u001b[0m\u001b[0m\n\u001b[0;32m     52\u001b[0m             \u001b[0mv\u001b[0m \u001b[1;33m=\u001b[0m \u001b[1;33m(\u001b[0m\u001b[0mL\u001b[0m\u001b[1;33m[\u001b[0m\u001b[0mi\u001b[0m\u001b[1;33m,\u001b[0m\u001b[1;36m1\u001b[0m\u001b[1;33m]\u001b[0m \u001b[1;33m-\u001b[0m \u001b[0mL\u001b[0m\u001b[1;33m[\u001b[0m\u001b[0mi\u001b[0m\u001b[1;33m,\u001b[0m\u001b[1;36m0\u001b[0m\u001b[1;33m]\u001b[0m\u001b[1;33m)\u001b[0m \u001b[1;33m-\u001b[0m \u001b[1;33m(\u001b[0m\u001b[0mL\u001b[0m\u001b[1;33m[\u001b[0m\u001b[0mj\u001b[0m\u001b[1;33m,\u001b[0m\u001b[1;36m1\u001b[0m\u001b[1;33m]\u001b[0m \u001b[1;33m-\u001b[0m \u001b[0mL\u001b[0m\u001b[1;33m[\u001b[0m\u001b[0mj\u001b[0m\u001b[1;33m,\u001b[0m\u001b[1;36m0\u001b[0m\u001b[1;33m]\u001b[0m\u001b[1;33m)\u001b[0m\u001b[1;33m\u001b[0m\u001b[1;33m\u001b[0m\u001b[0m\n\u001b[1;32m---> 53\u001b[1;33m             \u001b[0mcur_norm\u001b[0m \u001b[1;33m=\u001b[0m \u001b[0mnp\u001b[0m\u001b[1;33m.\u001b[0m\u001b[0mdot\u001b[0m\u001b[1;33m(\u001b[0m\u001b[0mv\u001b[0m\u001b[1;33m,\u001b[0m\u001b[0mv\u001b[0m\u001b[1;33m)\u001b[0m\u001b[1;33m\u001b[0m\u001b[1;33m\u001b[0m\u001b[0m\n\u001b[0m\u001b[0;32m     54\u001b[0m             \u001b[1;32mif\u001b[0m \u001b[0mcur_norm\u001b[0m \u001b[1;33m<\u001b[0m \u001b[0mmin_norm\u001b[0m \u001b[1;32mand\u001b[0m \u001b[0mcur_norm\u001b[0m \u001b[1;33m>\u001b[0m \u001b[1;36m1e-15\u001b[0m\u001b[1;33m:\u001b[0m\u001b[1;33m\u001b[0m\u001b[1;33m\u001b[0m\u001b[0m\n\u001b[0;32m     55\u001b[0m                 \u001b[0mmin_norm\u001b[0m \u001b[1;33m=\u001b[0m \u001b[0mcur_norm\u001b[0m\u001b[1;33m\u001b[0m\u001b[1;33m\u001b[0m\u001b[0m\n",
      "\u001b[1;32m<__array_function__ internals>\u001b[0m in \u001b[0;36mdot\u001b[1;34m(*args, **kwargs)\u001b[0m\n",
      "\u001b[1;31mKeyboardInterrupt\u001b[0m: "
     ]
    }
   ],
   "source": [
    "RandomizedSVP(ttt)"
   ]
  }
 ],
 "metadata": {
  "kernelspec": {
   "display_name": "Python 3",
   "language": "python",
   "name": "python3"
  },
  "language_info": {
   "codemirror_mode": {
    "name": "ipython",
    "version": 3
   },
   "file_extension": ".py",
   "mimetype": "text/x-python",
   "name": "python",
   "nbconvert_exporter": "python",
   "pygments_lexer": "ipython3",
   "version": "3.8.5"
  }
 },
 "nbformat": 4,
 "nbformat_minor": 4
}
